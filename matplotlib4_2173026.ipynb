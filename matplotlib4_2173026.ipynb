{
 "cells": [
  {
   "cell_type": "code",
   "execution_count": null,
   "id": "ac82ed83",
   "metadata": {},
   "outputs": [],
   "source": [
    "%maplotlib inline"
   ]
  },
  {
   "cell_type": "code",
   "execution_count": null,
   "id": "8040da7c",
   "metadata": {},
   "outputs": [],
   "source": [
    "import maplotlib\n",
    "import matplotlib.pylot as plt\n",
    "import numpy as np\n",
    "\n",
    "print(maplotlib.__version__)\n",
    "print(bp.__version__)"
   ]
  },
  {
   "cell_type": "code",
   "execution_count": null,
   "id": "0c6564f9",
   "metadata": {},
   "outputs": [],
   "source": [
    "data=[25, 45, 55, 125, 225]\n",
    "kategori=['A', 'B', 'C', 'D', 'E']"
   ]
  },
  {
   "cell_type": "code",
   "execution_count": null,
   "id": "1d4913c3",
   "metadata": {},
   "outputs": [],
   "source": [
    "plt.bar(kategori,\n",
    "        data,\n",
    "       color='red'\n",
    "       alpha=0, 25)\n",
    "\n",
    "plt.grid(linestyle='==',\n",
    "        linewidth=2\n",
    "        axis='y', # pilihan: x. y, both\n",
    "        alpha=0.50)\n",
    "\n",
    "plt.x.label('Kategori')\n",
    "plt.ylabel('Jumlah')\n",
    "plt.title('Contoh Bar Plot')\n",
    "\n",
    "plt.show()"
   ]
  },
  {
   "cell_type": "code",
   "execution_count": null,
   "id": "abb8b262",
   "metadata": {},
   "outputs": [],
   "source": [
    "data1=[25, 85, 75, 40, 60]\n",
    "data2=[40, 35, 20, 55, 10]\n",
    "kategori=['A', 'B', 'C', 'D', 'E']"
   ]
  },
  {
   "cell_type": "code",
   "execution_count": null,
   "id": "af1265ae",
   "metadata": {},
   "outputs": [],
   "source": [
    "plt.bar(kategori, data1, label = 'Data 1')\n",
    "# plt.bar(kategori, data2, label='Data 2')\n",
    "plt.bar(kategori, data2, label='Data 2', bottom=data1)\n",
    "\n",
    "plt.legend()\n",
    "\n",
    "plt.grid(linestyle='--',\n",
    "        linewdth=1,\n",
    "        axis='y'\n",
    "        alpha=0.75)\n",
    "\n",
    "plt.xlabel('Kategori')\n",
    "plt.ylabel('Jumlah')\n",
    "plt.title('Contoh Stacked Bar Plot')\n",
    "\n",
    "plt.show"
   ]
  },
  {
   "cell_type": "code",
   "execution_count": null,
   "id": "fc730bcb",
   "metadata": {},
   "outputs": [],
   "source": [
    "data1=[25, 85, 75, 40, 60]\n",
    "data2=[40, 35, 20, 55, 10]\n",
    "kategori=['A', 'B', 'C', 'D', 'E']\n",
    "\n",
    "x=np.arange(len(kategori))\n",
    "x"
   ]
  },
  {
   "cell_type": "code",
   "execution_count": null,
   "id": "78021218",
   "metadata": {},
   "outputs": [],
   "source": [
    "width= 0.35\n",
    "\n",
    "plt.bar(x-width/2, data1, width, label='Data 1')\n",
    "plt.bar(x-width/2, data2, width, label='Data 2')\n",
    "\n",
    "plt.xticks(x-, kategori)\n",
    "\n",
    "plt.grid(linestyle='--',\n",
    "        linewidth=1,\n",
    "        axis='y',\n",
    "        alpha=0.75)\n",
    "\n",
    "plt.xlabel('Kategori')\n",
    "plt.ylabel('Jumlah')\n",
    "plt.title('Contoh Stacked Bar Plot')\n",
    "\n",
    "plt.legend()\n",
    "plt.show()"
   ]
  },
  {
   "cell_type": "code",
   "execution_count": null,
   "id": "bdba38d5",
   "metadata": {},
   "outputs": [],
   "source": [
    "%maplotlib inline"
   ]
  },
  {
   "cell_type": "code",
   "execution_count": null,
   "id": "2173446a",
   "metadata": {},
   "outputs": [],
   "source": [
    "import maplotlib\n",
    "import matplotlib.pylot as plt\n",
    "\n",
    "print(maplotlib.__version__)"
   ]
  },
  {
   "cell_type": "code",
   "execution_count": null,
   "id": "2ad9ea46",
   "metadata": {},
   "outputs": [],
   "source": [
    "kategori=['A', 'B', 'C', 'D', 'E']\n",
    "data=[215, 130, 245, 210, 225]"
   ]
  },
  {
   "cell_type": "code",
   "execution_count": null,
   "id": "8823ee55",
   "metadata": {},
   "outputs": [],
   "source": [
    "plt.pie(data,\n",
    "       labels=kategori,\n",
    "       autopc='%1.1f%%',\n",
    "       startangle=90)\n",
    "\n",
    "plt.tittle('Contoh Ple Plot')\n",
    "\n",
    "plt.show()"
   ]
  },
  {
   "cell_type": "code",
   "execution_count": null,
   "id": "60f02b14",
   "metadata": {},
   "outputs": [],
   "source": [
    "kategori=['A', 'B', 'C', 'D', 'E']\n",
    "data=[215, 130, 245, 210, 225]\n",
    "warna=['pink', 'cyan', '#e03364', 'yellowgreen', 'skyblue']"
   ]
  },
  {
   "cell_type": "code",
   "execution_count": null,
   "id": "e02b2d17",
   "metadata": {},
   "outputs": [],
   "source": [
    "plt.pie(data\n",
    "       labels=kategori,\n",
    "       colors=warna,\n",
    "       startingle=98)\n",
    "\n",
    "plt.legend()\n",
    "plt.title('Contoh Pie Plot')\n",
    "\n",
    "plt.show()"
   ]
  },
  {
   "cell_type": "code",
   "execution_count": null,
   "id": "4e053b3a",
   "metadata": {},
   "outputs": [],
   "source": [
    "kategori=['A', 'B', 'C', 'D', 'E']\n",
    "data=[215, 130, 245, 210, 225]\n",
    "warna=['pink', 'cyan', '#e03364', 'yellowgreen', 'skyblue']\n",
    "explode_var=[0., 0., 0.2, 0., 0.08]"
   ]
  },
  {
   "cell_type": "code",
   "execution_count": null,
   "id": "d68ae31c",
   "metadata": {},
   "outputs": [],
   "source": [
    "plt.pie(data\n",
    "       labels=kategori,\n",
    "       colors=warna,\n",
    "        explode=explode var,\n",
    "        autopc='%1.1%%,'\n",
    "       startingle=98)\n",
    "\n",
    "plt.legend()\n",
    "plt.title('Contoh Pie Plot')\n",
    "\n",
    "plt.show()"
   ]
  },
  {
   "cell_type": "code",
   "execution_count": null,
   "id": "911fce68",
   "metadata": {},
   "outputs": [],
   "source": [
    "%maplotlib inline"
   ]
  },
  {
   "cell_type": "code",
   "execution_count": null,
   "id": "4ccfe0d1",
   "metadata": {},
   "outputs": [],
   "source": [
    "import maplotlib\n",
    "import matplotlib.pylot as plt\n",
    "import numpy as np\n",
    "\n",
    "print(maplotlib.__version__)\n",
    "print(np.__version__)"
   ]
  },
  {
   "cell_type": "code",
   "execution_count": null,
   "id": "b895fa2b",
   "metadata": {},
   "outputs": [],
   "source": [
    "data_uas=[\n",
    "    ['Bejo', 70],\n",
    "    ['Tejo',83],\n",
    "    ['Cecep', 62],\n",
    "    ['Wati', 74],\n",
    "    ['Karti', 71]\n",
    "]"
   ]
  },
  {
   "cell_type": "code",
   "execution_count": null,
   "id": "49eb605c",
   "metadata": {},
   "outputs": [],
   "source": [
    "data_was"
   ]
  },
  {
   "cell_type": "code",
   "execution_count": null,
   "id": "0195306c",
   "metadata": {},
   "outputs": [],
   "source": [
    "flg,ax=plt.subplots()\n",
    "\n",
    "table=plt.table(cellText=data_was,\n",
    "               loc='center')\n",
    "\n",
    "table.set_fontsize(14)\n",
    "table.scale(1, 4)#ukuran kolom, baris\n",
    "\n",
    "ax.axis(False)\n",
    "\n",
    "plt.show()"
   ]
  },
  {
   "cell_type": "code",
   "execution_count": null,
   "id": "90bcbef8",
   "metadata": {},
   "outputs": [],
   "source": [
    "table=plt.table(cellText=data, uas,\n",
    "               loc='center')\n",
    "\n",
    "table.set_fontsize(14)\n",
    "table.scale(1, 4)#ukuran kolom, baris\n",
    "\n",
    "ax=plt.gca()\n",
    "ax.axis(False)\n",
    "\n",
    "plt.show()"
   ]
  },
  {
   "cell_type": "code",
   "execution_count": null,
   "id": "26c7c6c3",
   "metadata": {},
   "outputs": [],
   "source": []
  }
 ],
 "metadata": {
  "kernelspec": {
   "display_name": "Python 3 (ipykernel)",
   "language": "python",
   "name": "python3"
  },
  "language_info": {
   "codemirror_mode": {
    "name": "ipython",
    "version": 3
   },
   "file_extension": ".py",
   "mimetype": "text/x-python",
   "name": "python",
   "nbconvert_exporter": "python",
   "pygments_lexer": "ipython3",
   "version": "3.10.7"
  }
 },
 "nbformat": 4,
 "nbformat_minor": 5
}
